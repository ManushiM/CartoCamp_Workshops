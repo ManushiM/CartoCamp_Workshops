{
 "cells": [
  {
   "cell_type": "markdown",
   "metadata": {},
   "source": [
    "# You can access this notebook using url - http://bit.ly/2s4JsJO"
   ]
  },
  {
   "cell_type": "markdown",
   "metadata": {},
   "source": [
    "# 1 - What is D3?"
   ]
  },
  {
   "cell_type": "markdown",
   "metadata": {},
   "source": [
    "> ### D3 --> Data Driven Documents\n",
    "\n",
    "> 1. D3.js is a __JavaScript library__ for manipulating documents based on data. \n",
    "\n",
    "> 2. Uses __HTML, SVG, CSS__. \n",
    "\n",
    "> 3. __Avoids adopting protocols__ of particular frameworks"
   ]
  },
  {
   "cell_type": "markdown",
   "metadata": {},
   "source": [
    "### Wait, what's SVG again?"
   ]
  },
  {
   "cell_type": "markdown",
   "metadata": {},
   "source": [
    "> 1. __Support Vector Graph__\n",
    "\n",
    "> 2. Used to create __2D vector graphics__\n",
    "\n",
    "> 3. __Path__ not pixels\n",
    "\n",
    "> 4. Comes with specifications for __basic shapes__ (Rectangle, Circle, Line, Poyline, Polygon, Ellipse)\n",
    "\n",
    "> 5. (0,0) at __top left corner__ of the canvas"
   ]
  },
  {
   "cell_type": "markdown",
   "metadata": {
    "collapsed": true
   },
   "source": [
    "![alt tab](https://raw.githubusercontent.com/ManushiM/CartoCamp_Workshops/master/Workshop2_May2017/Images/Intro1.PNG)"
   ]
  },
  {
   "cell_type": "markdown",
   "metadata": {},
   "source": [
    "# 2 - Getting Started with D3"
   ]
  },
  {
   "cell_type": "markdown",
   "metadata": {},
   "source": [
    "![alt tab](https://raw.githubusercontent.com/ManushiM/CartoCamp_Workshops/master/Workshop2_May2017/Images/scgContainer.PNG)"
   ]
  },
  {
   "cell_type": "markdown",
   "metadata": {},
   "source": [
    "### Scales, Axis, Data"
   ]
  },
  {
   "cell_type": "markdown",
   "metadata": {},
   "source": [
    "### *Scales*"
   ]
  },
  {
   "cell_type": "markdown",
   "metadata": {},
   "source": [
    "> The idea is to scale __our data to the space provided__\n",
    "\n",
    "> Maps __input DOMAIN to output RANGE__\n",
    "\n",
    "> __Types__ : Linear, Power, Logarithmic, Quantile, Ordinal"
   ]
  },
  {
   "cell_type": "markdown",
   "metadata": {},
   "source": [
    "![alt tab](https://raw.githubusercontent.com/ManushiM/CartoCamp_Workshops/master/Workshop2_May2017/Images/LinearScale.PNG)"
   ]
  },
  {
   "cell_type": "markdown",
   "metadata": {},
   "source": [
    "### *Axis*"
   ]
  },
  {
   "cell_type": "markdown",
   "metadata": {},
   "source": [
    "![alt tab](https://raw.githubusercontent.com/ManushiM/CartoCamp_Workshops/master/Workshop2_May2017/Images/xAxix.PNG)"
   ]
  },
  {
   "cell_type": "markdown",
   "metadata": {},
   "source": [
    "#### Customizing axis bounds based on data"
   ]
  },
  {
   "cell_type": "markdown",
   "metadata": {},
   "source": [
    "![alt tab](https://raw.githubusercontent.com/ManushiM/CartoCamp_Workshops/master/Workshop2_May2017/Images/minmax.PNG)"
   ]
  },
  {
   "cell_type": "markdown",
   "metadata": {},
   "source": [
    "### *Data*"
   ]
  },
  {
   "cell_type": "markdown",
   "metadata": {},
   "source": [
    "** Two ways of reading in data **\n",
    "1. CSV\n",
    "\n",
    "2. JSON"
   ]
  },
  {
   "cell_type": "markdown",
   "metadata": {},
   "source": [
    "![alt tab](https://raw.githubusercontent.com/ManushiM/CartoCamp_Workshops/master/Workshop2_May2017/Images/data.PNG)"
   ]
  },
  {
   "cell_type": "markdown",
   "metadata": {},
   "source": [
    "# 3 - Getting deeper.."
   ]
  },
  {
   "cell_type": "markdown",
   "metadata": {},
   "source": [
    "### Data Binding, Path, Transformations"
   ]
  },
  {
   "cell_type": "markdown",
   "metadata": {},
   "source": [
    "### *Data Binding*"
   ]
  },
  {
   "cell_type": "markdown",
   "metadata": {},
   "source": [
    "1. select() / selectAll() - Extracts element(s) that already match or will match a specification\n",
    "\n",
    "> __enter()__ - The enter selection contains placeholders for any missing elements.\n",
    "\n",
    "> __update()__ - The update selection contains existing elements, bound to data.\n",
    "\n",
    "> __exit()__ - Any remaining elements end up in the exit selection for removal.\n",
    "\n",
    "\n",
    "2. Operators __.append()__ and __.remove()__"
   ]
  },
  {
   "cell_type": "markdown",
   "metadata": {},
   "source": [
    "![alt tab](https://raw.githubusercontent.com/ManushiM/CartoCamp_Workshops/master/Workshop2_May2017/Images/dataBinding.PNG)"
   ]
  },
  {
   "cell_type": "markdown",
   "metadata": {},
   "source": [
    "### *Path*"
   ]
  },
  {
   "cell_type": "markdown",
   "metadata": {},
   "source": [
    "#### Represents the outline of a shape that can be stroked, filled, used as a clipping path, or any combination of all three."
   ]
  },
  {
   "cell_type": "markdown",
   "metadata": {},
   "source": [
    "![alt tab](https://raw.githubusercontent.com/ManushiM/CartoCamp_Workshops/master/Workshop2_May2017/Images/path.PNG)"
   ]
  },
  {
   "cell_type": "markdown",
   "metadata": {},
   "source": [
    "### Commands used\n",
    "1. M - moveto\n",
    "2. L - lineto\n",
    "3. H - horizontal lineto\n",
    "4. V - vertical lineto\n",
    "\n",
    "\n",
    "Commands also available for Quadratic Bezier Curves, Elliptical Arc Curve Command and End Path\n",
    "\n",
    "Capitalized alphabets means that we were using __absolute positioning__ within our SVG Viewing window. If we use lower case commands, then we will be using __relative positioning__."
   ]
  },
  {
   "cell_type": "markdown",
   "metadata": {},
   "source": [
    "![alt tab](https://raw.githubusercontent.com/ManushiM/CartoCamp_Workshops/master/Workshop2_May2017/Images/linePath.PNG)"
   ]
  },
  {
   "cell_type": "markdown",
   "metadata": {},
   "source": [
    "### Other generators\n",
    "* d3.svg.line - create a new line generator\n",
    "* d3.svg.line.radial - create a new radial line generator\n",
    "* d3.svg.area - create a new area generator\n",
    "* d3.svg.area.radial - create a new radial area generator\n",
    "* d3.svg.arc - create a new arc generator\n",
    "* d3.svg.symbol - create a new symbol generator\n",
    "* d3.svg.chord - create a new chord generator\n",
    "* d3.svg.diagonal - create a new diagonal generator\n",
    "* d3.svg.diagonal.radial - create a new radial diagonal generator"
   ]
  },
  {
   "cell_type": "markdown",
   "metadata": {},
   "source": [
    "### *Transformations*"
   ]
  },
  {
   "cell_type": "markdown",
   "metadata": {},
   "source": [
    "![alt tab](https://raw.githubusercontent.com/ManushiM/CartoCamp_Workshops/master/Workshop2_May2017/Images/transformation_types.PNG)"
   ]
  },
  {
   "cell_type": "markdown",
   "metadata": {},
   "source": [
    "The transformations are applied __from right to left__."
   ]
  },
  {
   "cell_type": "markdown",
   "metadata": {},
   "source": [
    "![alt tab](https://raw.githubusercontent.com/ManushiM/CartoCamp_Workshops/master/Workshop2_May2017/Images/translate.PNG)"
   ]
  },
  {
   "cell_type": "markdown",
   "metadata": {},
   "source": [
    "![alt tab](https://raw.githubusercontent.com/ManushiM/CartoCamp_Workshops/master/Workshop2_May2017/Images/translateCode.PNG)"
   ]
  },
  {
   "cell_type": "markdown",
   "metadata": {},
   "source": [
    "# 4 - Let's see [code](https://github.com/ManushiM/CartoCamp_Workshops/blob/master/Workshop2_May2017/code/citibike_animation.html) to build a few [charts](https://manushim.github.io/CartoCamp_Workshops/Workshop2_May2017/code/staticCharts.html)"
   ]
  },
  {
   "cell_type": "markdown",
   "metadata": {},
   "source": [
    "# 5 - Now let's see [code](https://github.com/ManushiM/CartoCamp_Workshops/blob/master/Workshop2_May2017/code/staticCharts.html) to build a [map animation](https://manushim.github.io/CartoCamp_Workshops/Workshop2_May2017/code/citibike_animation)!"
   ]
  },
  {
   "cell_type": "markdown",
   "metadata": {},
   "source": [
    "# 6 - Let's attempt to understand and reproduce [this](http://bl.ocks.org/d3noob/8952219)"
   ]
  },
  {
   "cell_type": "markdown",
   "metadata": {},
   "source": [
    "# NOTE:\n",
    "\n",
    "### The command '_python -m SimpleHTTPServer 8000_' will help you host html code on your machine, provided you have Python.\n",
    "\n",
    "### If not, use the _Brackets editor_. It allows you to write html code and serves it on an instance of the Chrome browser as well."
   ]
  },
  {
   "cell_type": "code",
   "execution_count": null,
   "metadata": {
    "collapsed": true
   },
   "outputs": [],
   "source": []
  }
 ],
 "metadata": {
  "anaconda-cloud": {},
  "kernelspec": {
   "display_name": "Python [conda root]",
   "language": "python",
   "name": "conda-root-py"
  },
  "language_info": {
   "codemirror_mode": {
    "name": "ipython",
    "version": 2
   },
   "file_extension": ".py",
   "mimetype": "text/x-python",
   "name": "python",
   "nbconvert_exporter": "python",
   "pygments_lexer": "ipython2",
   "version": "2.7.12"
  }
 },
 "nbformat": 4,
 "nbformat_minor": 1
}
